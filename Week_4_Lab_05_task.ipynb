{
  "cells": [
    {
      "cell_type": "markdown",
      "metadata": {
        "id": "view-in-github",
        "colab_type": "text"
      },
      "source": [
        "<a href=\"https://colab.research.google.com/github/basartimucin/MPA-MLF/blob/main/Week_4_Lab_05_task.ipynb\" target=\"_parent\"><img src=\"https://colab.research.google.com/assets/colab-badge.svg\" alt=\"Open In Colab\"/></a>"
      ]
    },
    {
      "cell_type": "markdown",
      "metadata": {
        "id": "kr883cxr2w1g"
      },
      "source": [
        "# MPA-MLF, Lab 5 - Feedforward Neural Networks"
      ]
    },
    {
      "cell_type": "code",
      "source": [
        "from google.colab import drive\n",
        "drive.mount('/content/drive')"
      ],
      "metadata": {
        "id": "2XbaalHcIawT",
        "colab": {
          "base_uri": "https://localhost:8080/"
        },
        "outputId": "57fb3b43-d8a8-409d-a249-5865e8e55e31"
      },
      "execution_count": 26,
      "outputs": [
        {
          "output_type": "stream",
          "name": "stdout",
          "text": [
            "Drive already mounted at /content/drive; to attempt to forcibly remount, call drive.mount(\"/content/drive\", force_remount=True).\n"
          ]
        }
      ]
    },
    {
      "cell_type": "markdown",
      "metadata": {
        "id": "ejOYhsl_KlHt"
      },
      "source": [
        "## Exercise 1 - XOR problem"
      ]
    },
    {
      "cell_type": "markdown",
      "metadata": {
        "id": "TiMMyX7B2zUw"
      },
      "source": [
        "### 0. First import libraries"
      ]
    },
    {
      "cell_type": "code",
      "execution_count": 27,
      "metadata": {
        "id": "FzC8HPME2pgP"
      },
      "outputs": [],
      "source": [
        "from tensorflow.keras.models import Sequential\n",
        "from tensorflow.keras.layers import Dense, InputLayer\n",
        "import tensorflow as tf\n",
        "import matplotlib.pyplot as plt"
      ]
    },
    {
      "cell_type": "markdown",
      "metadata": {
        "id": "mnLbt_-U2_4Y"
      },
      "source": [
        "### 1. prepare data"
      ]
    },
    {
      "cell_type": "code",
      "execution_count": 28,
      "metadata": {
        "id": "gWLETf7k2wiY"
      },
      "outputs": [],
      "source": [
        "X = [[0, 0], [0, 1], [1, 0], [1, 1]]\n",
        "y = [0, 1, 1, 0]"
      ]
    },
    {
      "cell_type": "markdown",
      "metadata": {
        "id": "dJ5ZwSDU3Qho"
      },
      "source": [
        "### 2. Creating the model"
      ]
    },
    {
      "cell_type": "code",
      "execution_count": 29,
      "metadata": {
        "id": "RpAah84r2vyw"
      },
      "outputs": [],
      "source": [
        "model = Sequential()\n",
        "model.add(InputLayer(input_shape=(2)))\n",
        "model.add(Dense(2, activation='sigmoid'))\n",
        "model.add(Dense(1, activation='sigmoid'))"
      ]
    },
    {
      "cell_type": "markdown",
      "metadata": {
        "id": "rtNu4JiE3XVw"
      },
      "source": [
        "### 3. Compile the model"
      ]
    },
    {
      "cell_type": "code",
      "execution_count": 30,
      "metadata": {
        "id": "GCKtEOAf3awX"
      },
      "outputs": [],
      "source": [
        "optimizer = tf.keras.optimizers.SGD(learning_rate=0.1)\n",
        "model.compile(loss='binary_crossentropy', optimizer=optimizer, metrics=['accuracy'])"
      ]
    },
    {
      "cell_type": "markdown",
      "metadata": {
        "id": "Xhlzz2hr0n5Y"
      },
      "source": [
        "To train your model, run the following line of the code:"
      ]
    },
    {
      "cell_type": "code",
      "execution_count": 31,
      "metadata": {
        "id": "sE7eNdJi3gbX"
      },
      "outputs": [],
      "source": [
        "history = model.fit(X, y, epochs=5, batch_size=1, verbose=0)"
      ]
    },
    {
      "cell_type": "markdown",
      "metadata": {
        "id": "M1M4VvU83jXY"
      },
      "source": [
        "### 5. Model evaluation"
      ]
    },
    {
      "cell_type": "code",
      "execution_count": 32,
      "metadata": {
        "id": "EbM0bLm83iiQ",
        "colab": {
          "base_uri": "https://localhost:8080/"
        },
        "outputId": "5fe35f09-cc1a-4387-94e8-6acf9310570d"
      },
      "outputs": [
        {
          "output_type": "stream",
          "name": "stdout",
          "text": [
            "Accuracy: 50.00\n"
          ]
        }
      ],
      "source": [
        "loss, accuracy = model.evaluate(X, y, verbose=0)\n",
        "print('Accuracy: {:.2f}'.format(accuracy*100))"
      ]
    },
    {
      "cell_type": "markdown",
      "metadata": {
        "id": "TYloVKFcUcYP"
      },
      "source": [
        "### 6. Model predictions"
      ]
    },
    {
      "cell_type": "code",
      "execution_count": 33,
      "metadata": {
        "id": "gEO2iQHnUjDo",
        "colab": {
          "base_uri": "https://localhost:8080/"
        },
        "outputId": "30899124-3518-48c5-f8bf-148c610560dd"
      },
      "outputs": [
        {
          "output_type": "stream",
          "name": "stdout",
          "text": [
            "1/1 [==============================] - 0s 67ms/step\n",
            "Data sample is [0, 0], prediction from model [[0.44416383]], ground_truth 0\n",
            "1/1 [==============================] - 0s 35ms/step\n",
            "Data sample is [0, 1], prediction from model [[0.45323247]], ground_truth 1\n",
            "1/1 [==============================] - 0s 35ms/step\n",
            "Data sample is [1, 0], prediction from model [[0.4445611]], ground_truth 1\n",
            "1/1 [==============================] - 0s 37ms/step\n",
            "Data sample is [1, 1], prediction from model [[0.45362645]], ground_truth 0\n"
          ]
        }
      ],
      "source": [
        "for id_x, data_sample in enumerate(X):\n",
        "  prediction = model.predict([data_sample])\n",
        "  print(f\"Data sample is {data_sample}, prediction from model {prediction}, ground_truth {y[id_x]}\")"
      ]
    },
    {
      "cell_type": "markdown",
      "metadata": {
        "id": "znRHpDEbABvg"
      },
      "source": [
        "### 7. Display loss function during the training process and acuracy"
      ]
    },
    {
      "cell_type": "code",
      "execution_count": 34,
      "metadata": {
        "id": "zmFOaJHA41Tb",
        "colab": {
          "base_uri": "https://localhost:8080/",
          "height": 471
        },
        "outputId": "74f8d189-45b3-4830-e3cc-edd38ca172cf"
      },
      "outputs": [
        {
          "output_type": "execute_result",
          "data": {
            "text/plain": [
              "Text(0, 0.5, 'loss')"
            ]
          },
          "metadata": {},
          "execution_count": 34
        },
        {
          "output_type": "display_data",
          "data": {
            "text/plain": [
              "<Figure size 640x480 with 1 Axes>"
            ],
            "image/png": "[encoded data removed]"
          },
          "metadata": {}
        }
      ],
      "source": [
        "plt.figure()\n",
        "plt.plot(history.history['loss'])\n",
        "plt.xlabel('n epochs')\n",
        "plt.ylabel('loss')"
      ]
    },
    {
      "cell_type": "markdown",
      "metadata": {
        "id": "YK40q-xmHvIr"
      },
      "source": [
        "### TASK:\n",
        "\n",
        "In this part of the exercise, the task would be to play around with the code above to see the influence of hyperparameters.\n",
        "\n",
        "As we know from the lecture, neural networks contain two types of parameters:\n",
        "  1. **Learnable parameters** - *weights* and *biases*. these parameters are adjusted in the training process.  \n",
        "  2. **Non-learnable parameters (hyperparameters)** - learning_rate, number_of_neurons, number_of_layers, number_of_epochs, type of activation functions in the neurons.., basically any user-defined setting is considered to be hyperparameter\n",
        "\n",
        "\n",
        "Change the following parameters:\n",
        "- number of epochs\n",
        "- learning_rate\n",
        "- activation functions in layers,\n",
        "- batch_size,\n",
        "- verbose,\n",
        "- number of neurons in the hidden layer\n",
        "\n",
        "Moreover, see the influence on the training process and results.\n",
        "\n",
        "**Note: Every time we change some hyper-parameters, do not forget to compile the model, to initialize the learnable parameters again**"
      ]
    },
    {
      "cell_type": "markdown",
      "metadata": {
        "id": "qbMYYFtl8lhd"
      },
      "source": [
        "## Exercise 2 - Congressional Voting Data\n",
        "\n",
        "In the attached dataset, results from congressional voting can be found. Your task is to train a model that can recognize that the politician is *republican* or *democrat* based on voting results. We would follow the general machine learning steps that were described in the lecture."
      ]
    },
    {
      "cell_type": "code",
      "execution_count": 35,
      "metadata": {
        "id": "VCvGPSYX8pbf"
      },
      "outputs": [],
      "source": [
        "import pandas as pd\n",
        "import numpy as np\n",
        "from tensorflow.keras.models import Sequential\n",
        "from tensorflow.keras.layers import Dense\n",
        "import tensorflow as tf\n",
        "import matplotlib.pyplot as plt\n",
        "from sklearn.preprocessing import LabelEncoder"
      ]
    },
    {
      "cell_type": "markdown",
      "metadata": {
        "id": "vSoCAe_gAAP5"
      },
      "source": [
        "### 1. Loading dataset"
      ]
    },
    {
      "cell_type": "markdown",
      "metadata": {
        "id": "hm8Kj3sJiLAx"
      },
      "source": [
        "**First mount your google drive to google colab file.**"
      ]
    },
    {
      "cell_type": "code",
      "execution_count": 36,
      "metadata": {
        "id": "AqSVkJc8_f4R"
      },
      "outputs": [],
      "source": [
        "path_to_dataset = '/content/drive/MyDrive/Exercises-main 2/Lab_05/voting_complete.csv'\n",
        "pd_dataset = pd.read_csv(path_to_dataset)"
      ]
    },
    {
      "cell_type": "markdown",
      "metadata": {
        "id": "mrHZUFV-AEYh"
      },
      "source": [
        "### 2. Train/Test Split"
      ]
    },
    {
      "cell_type": "markdown",
      "metadata": {
        "id": "M5Odr83IAcYP"
      },
      "source": [
        "Fistlty we need to split our dataset into train and test. We will use 80% of dataset as our trainset and 20% od dataset as our testset. You can use functions included in *keras*, *scikit-learn*, or you can write your own:"
      ]
    },
    {
      "cell_type": "code",
      "execution_count": 37,
      "metadata": {
        "id": "24w7ksCcAddN"
      },
      "outputs": [],
      "source": [
        "def train_test_split(pd_data: pd.DataFrame, test_ratio: float = 0.2) -> tuple:\n",
        "    pd_dataset = pd_data.copy()\n",
        "    pd_dataset = pd_dataset[pd_dataset.columns[1:]]\n",
        "    index = np.arange(len(pd_dataset))\n",
        "    index = np.random.permutation(index)\n",
        "    train_ammount = int(len(index)*test_ratio)\n",
        "    train_ids = index[train_ammount:]\n",
        "    test_ids = index[:train_ammount]\n",
        "\n",
        "    train_dataset = pd_dataset[pd_dataset.index.isin(train_ids)].reset_index()\n",
        "    test_dataset = pd_dataset[pd_dataset.index.isin(test_ids)].reset_index()\n",
        "\n",
        "    train_dataset = train_dataset[train_dataset.columns[1:]]\n",
        "    test_dataset = test_dataset[test_dataset.columns[1:]]\n",
        "\n",
        "    return train_dataset[train_dataset.columns[1:]], train_dataset[train_dataset.columns[0]], test_dataset[test_dataset.columns[1:]], test_dataset[test_dataset.columns[0]]\n"
      ]
    },
    {
      "cell_type": "markdown",
      "metadata": {
        "id": "g1aUQ2K-BGZ5"
      },
      "source": [
        "### 3. Data examination"
      ]
    },
    {
      "cell_type": "markdown",
      "metadata": {
        "id": "iUXBgnYdgH7T"
      },
      "source": [
        "The task would be to examine the dataset. Check:\n",
        "\n",
        "1. Is it a classification of regression task?\n",
        "2. How many data samples do we have?\n",
        "3. How many features do we have?  \n",
        "4. What data types do we have in our dataset?\n",
        "5. Are there any missing values?\n",
        "6. How many labels do we have?\n"
      ]
    },
    {
      "cell_type": "code",
      "execution_count": 38,
      "metadata": {
        "id": "0pKswr1YhMsS",
        "colab": {
          "base_uri": "https://localhost:8080/"
        },
        "outputId": "12c9106f-542c-4927-c6be-a83f29052fc1"
      },
      "outputs": [
        {
          "output_type": "stream",
          "name": "stdout",
          "text": [
            "Task Type: Regression\n",
            "Number of Data Samples: 435\n",
            "Number of Features: 17\n",
            "Data Types of Features:\n",
            "Class Name                                object\n",
            "handicapped-infants                       object\n",
            "water-project-cost-sharing                object\n",
            "adoption-of-the-budget-resolution         object\n",
            "physician-fee-freeze                      object\n",
            "el-salvador-aid                           object\n",
            "religious-groups-in-schools               object\n",
            "anti-satellite-test-ban                   object\n",
            "aid-to-nicaraguan-contras                 object\n",
            "mx-missile                                object\n",
            "immigration                               object\n",
            "synfuels-corporation-cutback              object\n",
            "education-spending                        object\n",
            "superfund-right-to-sue                    object\n",
            "crime                                     object\n",
            "duty-free-exports                         object\n",
            "export-administration-act-south-africa    object\n",
            "dtype: object\n",
            "Missing Values Present: Yes\n",
            "Total Missing Values: 392\n",
            "Number of Labels: 435\n"
          ]
        }
      ],
      "source": [
        "pd_dataset = pd.read_csv(path_to_dataset, na_values='?')\n",
        "pd_dataset.replace('?', np.nan, inplace=True)\n",
        "label_dtype = pd_dataset[pd_dataset.columns[0]].dtype\n",
        "task_type = \"Classification\" if label_dtype == object else \"Regression\"\n",
        "print(\"Task Type:\", task_type)\n",
        "num_samples = len(pd_dataset)\n",
        "print(\"Number of Data Samples:\", num_samples)\n",
        "num_features = len(pd_dataset.columns) - 1\n",
        "print(\"Number of Features:\", num_features)\n",
        "feature_data_types = pd_dataset.dtypes[1:]\n",
        "print(\"Data Types of Features:\")\n",
        "print(feature_data_types)\n",
        "missing_values = pd_dataset.isnull().sum().sum()\n",
        "if missing_values > 0:\n",
        "    print(\"Missing Values Present: Yes\")\n",
        "    print(\"Total Missing Values:\", missing_values)\n",
        "else:\n",
        "    print(\"Missing Values Present: No\")\n",
        "\n",
        "num_labels = pd_dataset[pd_dataset.columns[0]].nunique()\n",
        "print(\"Number of Labels:\", num_labels)\n"
      ]
    },
    {
      "cell_type": "markdown",
      "metadata": {
        "id": "aTxf4gaqrLge"
      },
      "source": [
        "### 4. Data preprocessing"
      ]
    },
    {
      "cell_type": "markdown",
      "metadata": {
        "id": "PcJ41-OtrOah"
      },
      "source": [
        "When you preprocess your traing data, do not forget that you need to apply the same preprocessing also for your test set. For example: If you decide to delete some columns in your train set, you have to delete the same columns in your test set."
      ]
    },
    {
      "cell_type": "markdown",
      "metadata": {
        "id": "5DWPwLG1EWiQ"
      },
      "source": [
        "Possible preprocessing steps (try several and see the influence of your preprocessing on your results)\n",
        " - Replace missing values with any data imputation technique ( for example, the most occurring value in the column), then perform one-hot encoding or label encoding of your data\n",
        " - Consider the missing value to be the third category 'unknown' and then perform one-hot encoding or label encoding\n",
        "\n",
        "The target value also has to be encoded. This can be done by one-hot encoding or label encoding."
      ]
    },
    {
      "cell_type": "code",
      "source": [
        "# for a =1 unkown wales replaced with most frequrent ones , for a= 1 unkown values are different category\n",
        "a=1;"
      ],
      "metadata": {
        "id": "7bSMMOsQTVsj"
      },
      "execution_count": 39,
      "outputs": []
    },
    {
      "cell_type": "code",
      "execution_count": 40,
      "metadata": {
        "id": "DvulEffMsfbs"
      },
      "outputs": [],
      "source": [
        "if (a==0):\n",
        "  x_train, y_train, x_test, y_test = train_test_split(pd_dataset)\n",
        "\n",
        "  x_train_hotencoded = pd.get_dummies(x_train, dummy_na=True)\n",
        "  x_test_hotencoded = pd.get_dummies(x_test, dummy_na=True)\n",
        "\n",
        "  label_encoder_y = LabelEncoder()\n",
        "  y_train_encoded = label_encoder_y.fit_transform(y_train)\n",
        "  y_test_encoded = label_encoder_y.fit_transform(y_test)\n",
        "\n",
        "  x_train_array = x_train_hotencoded.to_numpy()\n",
        "  x_test_array = x_test_hotencoded.to_numpy()\n",
        "  y_train_array = y_train_encoded\n",
        "  y_test_array = y_test_encoded\n",
        "  np.set_printoptions(threshold=np.inf)\n",
        "  print(x_test_array.shape)"
      ]
    },
    {
      "cell_type": "code",
      "source": [
        "if (a==1):\n",
        "  pd_dataset.fillna(pd_dataset.mode().iloc[0], inplace=True)\n",
        "\n",
        "  x_train, y_train, x_test, y_test = train_test_split(pd_dataset)\n",
        "  categorical_columns = [col for col in x_train.columns if x_train[col].dtype == 'object']\n",
        "  x_train_hotencoded = pd.get_dummies(x_train, columns=categorical_columns)\n",
        "  categorical_columns = [col for col in x_test.columns if x_test[col].dtype == 'object']\n",
        "  x_test_hotencoded = pd.get_dummies(x_test, columns=categorical_columns)\n",
        "\n",
        "  label_encoder_y = LabelEncoder()\n",
        "  y_train_encoded = label_encoder_y.fit_transform(y_train)\n",
        "  y_test_encoded = label_encoder_y.fit_transform(y_test)\n",
        "\n",
        "  x_train_array = x_train_hotencoded.to_numpy()\n",
        "  x_test_array = x_test_hotencoded.to_numpy()\n",
        "  y_train_array = y_train_encoded\n",
        "  y_test_array = y_test_encoded\n",
        "  print(x_test_array.shape)"
      ],
      "metadata": {
        "id": "k7p5Ok0vOnsz",
        "colab": {
          "base_uri": "https://localhost:8080/"
        },
        "outputId": "d6aeeb16-4ddd-4db5-e0bd-1e3724eecdcb"
      },
      "execution_count": 41,
      "outputs": [
        {
          "output_type": "stream",
          "name": "stdout",
          "text": [
            "(87, 32)\n"
          ]
        }
      ]
    },
    {
      "cell_type": "markdown",
      "metadata": {
        "id": "DdmHivmkuGZy"
      },
      "source": [
        "### 5. Creating the model"
      ]
    },
    {
      "cell_type": "markdown",
      "metadata": {
        "id": "z4FBQOiJGGDa"
      },
      "source": [
        "1. Create your model using alteast one hidden layer.\n",
        "\n",
        "*hint: do not create too complex models, this is a very simple task, so it would be enought to use just few neurons in the hidden layers*"
      ]
    },
    {
      "cell_type": "code",
      "execution_count": 42,
      "metadata": {
        "id": "tUGDXUEFs093"
      },
      "outputs": [],
      "source": [
        "model = Sequential()\n",
        "model.add(InputLayer(input_shape=(x_train_array.shape[1],)))\n",
        "model.add(Dense(4, activation='sigmoid'))\n",
        "model.add(Dense(1, activation='sigmoid'))"
      ]
    },
    {
      "cell_type": "markdown",
      "metadata": {
        "id": "87ZBo4g5Klno"
      },
      "source": [
        "2. Check what *model.summary()* does"
      ]
    },
    {
      "cell_type": "code",
      "execution_count": 43,
      "metadata": {
        "id": "s2lwjf4Yu1Wh"
      },
      "outputs": [],
      "source": [
        "# WRITE YOU CODE HERE"
      ]
    },
    {
      "cell_type": "markdown",
      "metadata": {
        "id": "ugHf36DoKrHT"
      },
      "source": [
        "3. Compile the model, choose a suitable loss function, choose gradient to descend optimizer and specify the learning rate, and choose accuracy as our metric"
      ]
    },
    {
      "cell_type": "code",
      "execution_count": 44,
      "metadata": {
        "id": "ejSrDLDDu1w4",
        "colab": {
          "base_uri": "https://localhost:8080/"
        },
        "outputId": "b439ee09-f915-427d-a57d-49512a434105"
      },
      "outputs": [
        {
          "output_type": "stream",
          "name": "stdout",
          "text": [
            "Model: \"sequential_3\"\n",
            "_________________________________________________________________\n",
            " Layer (type)                Output Shape              Param #   \n",
            "=================================================================\n",
            " dense_6 (Dense)             (None, 4)                 132       \n",
            "                                                                 \n",
            " dense_7 (Dense)             (None, 1)                 5         \n",
            "                                                                 \n",
            "=================================================================\n",
            "Total params: 137 (548.00 Byte)\n",
            "Trainable params: 137 (548.00 Byte)\n",
            "Non-trainable params: 0 (0.00 Byte)\n",
            "_________________________________________________________________\n",
            "None\n"
          ]
        }
      ],
      "source": [
        "optimizer = tf.keras.optimizers.SGD(learning_rate=0.01)\n",
        "model.compile(loss='binary_crossentropy', optimizer=optimizer, metrics=['accuracy'])\n",
        "print(model.summary())"
      ]
    },
    {
      "cell_type": "markdown",
      "metadata": {
        "id": "4Hc9SWvcMRzX"
      },
      "source": [
        "4. Train the model. Specify the number of epochs and batch size. Now is the time to create a validation dataset. Set 20% of dataset to be a validation dataset"
      ]
    },
    {
      "cell_type": "code",
      "execution_count": 45,
      "metadata": {
        "id": "6UjQuXXCMEu2",
        "colab": {
          "base_uri": "https://localhost:8080/"
        },
        "outputId": "6c096d72-1a9f-4524-ad09-36d1f854014c"
      },
      "outputs": [
        {
          "output_type": "stream",
          "name": "stdout",
          "text": [
            "Epoch 1/100\n",
            "70/70 [==============================] - 1s 6ms/step - loss: 0.7599 - accuracy: 0.3669 - val_loss: 0.7486 - val_accuracy: 0.3143\n",
            "Epoch 2/100\n",
            "70/70 [==============================] - 0s 4ms/step - loss: 0.6666 - accuracy: 0.5144 - val_loss: 0.6764 - val_accuracy: 0.5857\n",
            "Epoch 3/100\n",
            "70/70 [==============================] - 0s 4ms/step - loss: 0.6168 - accuracy: 0.8381 - val_loss: 0.6329 - val_accuracy: 0.7857\n",
            "Epoch 4/100\n",
            "70/70 [==============================] - 0s 4ms/step - loss: 0.5831 - accuracy: 0.8849 - val_loss: 0.6035 - val_accuracy: 0.8143\n",
            "Epoch 5/100\n",
            "70/70 [==============================] - 0s 4ms/step - loss: 0.5566 - accuracy: 0.8885 - val_loss: 0.5815 - val_accuracy: 0.8000\n",
            "Epoch 6/100\n",
            "70/70 [==============================] - 0s 4ms/step - loss: 0.5334 - accuracy: 0.8921 - val_loss: 0.5625 - val_accuracy: 0.8000\n",
            "Epoch 7/100\n",
            "70/70 [==============================] - 0s 4ms/step - loss: 0.5114 - accuracy: 0.8921 - val_loss: 0.5459 - val_accuracy: 0.8000\n",
            "Epoch 8/100\n",
            "70/70 [==============================] - 0s 4ms/step - loss: 0.4904 - accuracy: 0.8921 - val_loss: 0.5299 - val_accuracy: 0.7857\n",
            "Epoch 9/100\n",
            "70/70 [==============================] - 0s 5ms/step - loss: 0.4700 - accuracy: 0.8993 - val_loss: 0.5148 - val_accuracy: 0.7857\n",
            "Epoch 10/100\n",
            "70/70 [==============================] - 0s 4ms/step - loss: 0.4506 - accuracy: 0.8993 - val_loss: 0.5007 - val_accuracy: 0.8143\n",
            "Epoch 11/100\n",
            "70/70 [==============================] - 0s 4ms/step - loss: 0.4319 - accuracy: 0.8921 - val_loss: 0.4872 - val_accuracy: 0.8143\n",
            "Epoch 12/100\n",
            "70/70 [==============================] - 0s 4ms/step - loss: 0.4141 - accuracy: 0.8921 - val_loss: 0.4745 - val_accuracy: 0.8000\n",
            "Epoch 13/100\n",
            "70/70 [==============================] - 0s 4ms/step - loss: 0.3972 - accuracy: 0.8921 - val_loss: 0.4631 - val_accuracy: 0.8143\n",
            "Epoch 14/100\n",
            "70/70 [==============================] - 0s 4ms/step - loss: 0.3814 - accuracy: 0.8957 - val_loss: 0.4522 - val_accuracy: 0.8143\n",
            "Epoch 15/100\n",
            "70/70 [==============================] - 0s 4ms/step - loss: 0.3665 - accuracy: 0.8993 - val_loss: 0.4427 - val_accuracy: 0.8143\n",
            "Epoch 16/100\n",
            "70/70 [==============================] - 0s 5ms/step - loss: 0.3527 - accuracy: 0.8993 - val_loss: 0.4331 - val_accuracy: 0.8143\n",
            "Epoch 17/100\n",
            "70/70 [==============================] - 0s 4ms/step - loss: 0.3395 - accuracy: 0.9029 - val_loss: 0.4242 - val_accuracy: 0.8429\n",
            "Epoch 18/100\n",
            "70/70 [==============================] - 0s 4ms/step - loss: 0.3274 - accuracy: 0.9101 - val_loss: 0.4154 - val_accuracy: 0.8429\n",
            "Epoch 19/100\n",
            "70/70 [==============================] - 0s 4ms/step - loss: 0.3164 - accuracy: 0.9101 - val_loss: 0.4076 - val_accuracy: 0.8429\n",
            "Epoch 20/100\n",
            "70/70 [==============================] - 0s 4ms/step - loss: 0.3060 - accuracy: 0.9101 - val_loss: 0.4009 - val_accuracy: 0.8429\n",
            "Epoch 21/100\n",
            "70/70 [==============================] - 0s 5ms/step - loss: 0.2962 - accuracy: 0.9137 - val_loss: 0.3941 - val_accuracy: 0.8429\n",
            "Epoch 22/100\n",
            "70/70 [==============================] - 0s 6ms/step - loss: 0.2872 - accuracy: 0.9137 - val_loss: 0.3876 - val_accuracy: 0.8429\n",
            "Epoch 23/100\n",
            "70/70 [==============================] - 0s 6ms/step - loss: 0.2789 - accuracy: 0.9137 - val_loss: 0.3820 - val_accuracy: 0.8429\n",
            "Epoch 24/100\n",
            "70/70 [==============================] - 0s 6ms/step - loss: 0.2710 - accuracy: 0.9173 - val_loss: 0.3768 - val_accuracy: 0.8429\n",
            "Epoch 25/100\n",
            "70/70 [==============================] - 0s 6ms/step - loss: 0.2636 - accuracy: 0.9137 - val_loss: 0.3716 - val_accuracy: 0.8429\n",
            "Epoch 26/100\n",
            "70/70 [==============================] - 0s 5ms/step - loss: 0.2567 - accuracy: 0.9137 - val_loss: 0.3662 - val_accuracy: 0.8429\n",
            "Epoch 27/100\n",
            "70/70 [==============================] - 0s 6ms/step - loss: 0.2501 - accuracy: 0.9173 - val_loss: 0.3612 - val_accuracy: 0.8429\n",
            "Epoch 28/100\n",
            "70/70 [==============================] - 0s 6ms/step - loss: 0.2442 - accuracy: 0.9173 - val_loss: 0.3567 - val_accuracy: 0.8429\n",
            "Epoch 29/100\n",
            "70/70 [==============================] - 0s 4ms/step - loss: 0.2384 - accuracy: 0.9209 - val_loss: 0.3524 - val_accuracy: 0.8571\n",
            "Epoch 30/100\n",
            "70/70 [==============================] - 0s 4ms/step - loss: 0.2331 - accuracy: 0.9209 - val_loss: 0.3486 - val_accuracy: 0.8571\n",
            "Epoch 31/100\n",
            "70/70 [==============================] - 0s 5ms/step - loss: 0.2278 - accuracy: 0.9209 - val_loss: 0.3445 - val_accuracy: 0.8571\n",
            "Epoch 32/100\n",
            "70/70 [==============================] - 0s 4ms/step - loss: 0.2229 - accuracy: 0.9209 - val_loss: 0.3408 - val_accuracy: 0.8571\n",
            "Epoch 33/100\n",
            "70/70 [==============================] - 0s 4ms/step - loss: 0.2181 - accuracy: 0.9245 - val_loss: 0.3373 - val_accuracy: 0.8571\n",
            "Epoch 34/100\n",
            "70/70 [==============================] - 0s 5ms/step - loss: 0.2136 - accuracy: 0.9245 - val_loss: 0.3336 - val_accuracy: 0.8571\n",
            "Epoch 35/100\n",
            "70/70 [==============================] - 0s 4ms/step - loss: 0.2093 - accuracy: 0.9245 - val_loss: 0.3302 - val_accuracy: 0.8571\n",
            "Epoch 36/100\n",
            "70/70 [==============================] - 0s 4ms/step - loss: 0.2053 - accuracy: 0.9281 - val_loss: 0.3270 - val_accuracy: 0.8571\n",
            "Epoch 37/100\n",
            "70/70 [==============================] - 0s 4ms/step - loss: 0.2013 - accuracy: 0.9281 - val_loss: 0.3235 - val_accuracy: 0.8714\n",
            "Epoch 38/100\n",
            "70/70 [==============================] - 0s 4ms/step - loss: 0.1975 - accuracy: 0.9281 - val_loss: 0.3197 - val_accuracy: 0.8714\n",
            "Epoch 39/100\n",
            "70/70 [==============================] - 0s 4ms/step - loss: 0.1939 - accuracy: 0.9317 - val_loss: 0.3163 - val_accuracy: 0.8714\n",
            "Epoch 40/100\n",
            "70/70 [==============================] - 0s 4ms/step - loss: 0.1904 - accuracy: 0.9317 - val_loss: 0.3125 - val_accuracy: 0.8714\n",
            "Epoch 41/100\n",
            "70/70 [==============================] - 0s 4ms/step - loss: 0.1870 - accuracy: 0.9317 - val_loss: 0.3096 - val_accuracy: 0.8714\n",
            "Epoch 42/100\n",
            "70/70 [==============================] - 0s 4ms/step - loss: 0.1837 - accuracy: 0.9317 - val_loss: 0.3068 - val_accuracy: 0.8714\n",
            "Epoch 43/100\n",
            "70/70 [==============================] - 0s 4ms/step - loss: 0.1805 - accuracy: 0.9353 - val_loss: 0.3041 - val_accuracy: 0.8714\n",
            "Epoch 44/100\n",
            "70/70 [==============================] - 0s 5ms/step - loss: 0.1776 - accuracy: 0.9388 - val_loss: 0.3014 - val_accuracy: 0.8714\n",
            "Epoch 45/100\n",
            "70/70 [==============================] - 0s 4ms/step - loss: 0.1745 - accuracy: 0.9388 - val_loss: 0.2991 - val_accuracy: 0.8714\n",
            "Epoch 46/100\n",
            "70/70 [==============================] - 0s 4ms/step - loss: 0.1718 - accuracy: 0.9424 - val_loss: 0.2967 - val_accuracy: 0.8714\n",
            "Epoch 47/100\n",
            "70/70 [==============================] - 0s 4ms/step - loss: 0.1688 - accuracy: 0.9424 - val_loss: 0.2943 - val_accuracy: 0.8714\n",
            "Epoch 48/100\n",
            "70/70 [==============================] - 0s 4ms/step - loss: 0.1662 - accuracy: 0.9424 - val_loss: 0.2918 - val_accuracy: 0.8714\n",
            "Epoch 49/100\n",
            "70/70 [==============================] - 0s 4ms/step - loss: 0.1636 - accuracy: 0.9424 - val_loss: 0.2894 - val_accuracy: 0.8714\n",
            "Epoch 50/100\n",
            "70/70 [==============================] - 0s 4ms/step - loss: 0.1610 - accuracy: 0.9460 - val_loss: 0.2870 - val_accuracy: 0.8857\n",
            "Epoch 51/100\n",
            "70/70 [==============================] - 0s 4ms/step - loss: 0.1585 - accuracy: 0.9460 - val_loss: 0.2847 - val_accuracy: 0.8857\n",
            "Epoch 52/100\n",
            "70/70 [==============================] - 0s 4ms/step - loss: 0.1562 - accuracy: 0.9460 - val_loss: 0.2828 - val_accuracy: 0.8857\n",
            "Epoch 53/100\n",
            "70/70 [==============================] - 0s 4ms/step - loss: 0.1538 - accuracy: 0.9460 - val_loss: 0.2805 - val_accuracy: 0.8857\n",
            "Epoch 54/100\n",
            "70/70 [==============================] - 0s 5ms/step - loss: 0.1516 - accuracy: 0.9460 - val_loss: 0.2780 - val_accuracy: 0.9000\n",
            "Epoch 55/100\n",
            "70/70 [==============================] - 0s 4ms/step - loss: 0.1494 - accuracy: 0.9460 - val_loss: 0.2759 - val_accuracy: 0.9000\n",
            "Epoch 56/100\n",
            "70/70 [==============================] - 1s 8ms/step - loss: 0.1472 - accuracy: 0.9496 - val_loss: 0.2728 - val_accuracy: 0.9000\n",
            "Epoch 57/100\n",
            "70/70 [==============================] - 0s 5ms/step - loss: 0.1452 - accuracy: 0.9460 - val_loss: 0.2712 - val_accuracy: 0.9000\n",
            "Epoch 58/100\n",
            "70/70 [==============================] - 0s 4ms/step - loss: 0.1431 - accuracy: 0.9496 - val_loss: 0.2693 - val_accuracy: 0.9000\n",
            "Epoch 59/100\n",
            "70/70 [==============================] - 0s 4ms/step - loss: 0.1412 - accuracy: 0.9496 - val_loss: 0.2674 - val_accuracy: 0.9000\n",
            "Epoch 60/100\n",
            "70/70 [==============================] - 0s 4ms/step - loss: 0.1393 - accuracy: 0.9496 - val_loss: 0.2660 - val_accuracy: 0.9000\n",
            "Epoch 61/100\n",
            "70/70 [==============================] - 0s 6ms/step - loss: 0.1374 - accuracy: 0.9496 - val_loss: 0.2642 - val_accuracy: 0.9143\n",
            "Epoch 62/100\n",
            "70/70 [==============================] - 0s 5ms/step - loss: 0.1355 - accuracy: 0.9496 - val_loss: 0.2623 - val_accuracy: 0.9143\n",
            "Epoch 63/100\n",
            "70/70 [==============================] - 0s 6ms/step - loss: 0.1338 - accuracy: 0.9496 - val_loss: 0.2603 - val_accuracy: 0.9143\n",
            "Epoch 64/100\n",
            "70/70 [==============================] - 0s 6ms/step - loss: 0.1321 - accuracy: 0.9532 - val_loss: 0.2587 - val_accuracy: 0.9143\n",
            "Epoch 65/100\n",
            "70/70 [==============================] - 0s 6ms/step - loss: 0.1304 - accuracy: 0.9568 - val_loss: 0.2568 - val_accuracy: 0.9143\n",
            "Epoch 66/100\n",
            "70/70 [==============================] - 0s 6ms/step - loss: 0.1288 - accuracy: 0.9532 - val_loss: 0.2541 - val_accuracy: 0.9143\n",
            "Epoch 67/100\n",
            "70/70 [==============================] - 0s 6ms/step - loss: 0.1272 - accuracy: 0.9568 - val_loss: 0.2527 - val_accuracy: 0.9143\n",
            "Epoch 68/100\n",
            "70/70 [==============================] - 0s 6ms/step - loss: 0.1258 - accuracy: 0.9568 - val_loss: 0.2514 - val_accuracy: 0.9143\n",
            "Epoch 69/100\n",
            "70/70 [==============================] - 0s 4ms/step - loss: 0.1241 - accuracy: 0.9568 - val_loss: 0.2499 - val_accuracy: 0.9143\n",
            "Epoch 70/100\n",
            "70/70 [==============================] - 0s 4ms/step - loss: 0.1227 - accuracy: 0.9568 - val_loss: 0.2478 - val_accuracy: 0.9143\n",
            "Epoch 71/100\n",
            "70/70 [==============================] - 0s 4ms/step - loss: 0.1213 - accuracy: 0.9604 - val_loss: 0.2464 - val_accuracy: 0.9143\n",
            "Epoch 72/100\n",
            "70/70 [==============================] - 0s 4ms/step - loss: 0.1198 - accuracy: 0.9640 - val_loss: 0.2452 - val_accuracy: 0.9143\n",
            "Epoch 73/100\n",
            "70/70 [==============================] - 0s 4ms/step - loss: 0.1185 - accuracy: 0.9640 - val_loss: 0.2439 - val_accuracy: 0.9143\n",
            "Epoch 74/100\n",
            "70/70 [==============================] - 0s 4ms/step - loss: 0.1171 - accuracy: 0.9640 - val_loss: 0.2421 - val_accuracy: 0.9143\n",
            "Epoch 75/100\n",
            "70/70 [==============================] - 0s 4ms/step - loss: 0.1159 - accuracy: 0.9604 - val_loss: 0.2409 - val_accuracy: 0.9143\n",
            "Epoch 76/100\n",
            "70/70 [==============================] - 0s 4ms/step - loss: 0.1147 - accuracy: 0.9640 - val_loss: 0.2399 - val_accuracy: 0.9143\n",
            "Epoch 77/100\n",
            "70/70 [==============================] - 0s 4ms/step - loss: 0.1134 - accuracy: 0.9676 - val_loss: 0.2390 - val_accuracy: 0.9286\n",
            "Epoch 78/100\n",
            "70/70 [==============================] - 0s 4ms/step - loss: 0.1123 - accuracy: 0.9676 - val_loss: 0.2376 - val_accuracy: 0.9286\n",
            "Epoch 79/100\n",
            "70/70 [==============================] - 0s 4ms/step - loss: 0.1110 - accuracy: 0.9676 - val_loss: 0.2367 - val_accuracy: 0.9286\n",
            "Epoch 80/100\n",
            "70/70 [==============================] - 0s 4ms/step - loss: 0.1098 - accuracy: 0.9640 - val_loss: 0.2352 - val_accuracy: 0.9286\n",
            "Epoch 81/100\n",
            "70/70 [==============================] - 0s 4ms/step - loss: 0.1088 - accuracy: 0.9676 - val_loss: 0.2339 - val_accuracy: 0.9286\n",
            "Epoch 82/100\n",
            "70/70 [==============================] - 0s 4ms/step - loss: 0.1077 - accuracy: 0.9676 - val_loss: 0.2327 - val_accuracy: 0.9286\n",
            "Epoch 83/100\n",
            "70/70 [==============================] - 0s 4ms/step - loss: 0.1066 - accuracy: 0.9676 - val_loss: 0.2321 - val_accuracy: 0.9286\n",
            "Epoch 84/100\n",
            "70/70 [==============================] - 0s 4ms/step - loss: 0.1057 - accuracy: 0.9676 - val_loss: 0.2309 - val_accuracy: 0.9286\n",
            "Epoch 85/100\n",
            "70/70 [==============================] - 0s 4ms/step - loss: 0.1046 - accuracy: 0.9676 - val_loss: 0.2291 - val_accuracy: 0.9286\n",
            "Epoch 86/100\n",
            "70/70 [==============================] - 0s 4ms/step - loss: 0.1036 - accuracy: 0.9712 - val_loss: 0.2283 - val_accuracy: 0.9286\n",
            "Epoch 87/100\n",
            "70/70 [==============================] - 0s 4ms/step - loss: 0.1026 - accuracy: 0.9712 - val_loss: 0.2277 - val_accuracy: 0.9286\n",
            "Epoch 88/100\n",
            "70/70 [==============================] - 0s 4ms/step - loss: 0.1017 - accuracy: 0.9712 - val_loss: 0.2262 - val_accuracy: 0.9286\n",
            "Epoch 89/100\n",
            "70/70 [==============================] - 0s 4ms/step - loss: 0.1008 - accuracy: 0.9712 - val_loss: 0.2256 - val_accuracy: 0.9286\n",
            "Epoch 90/100\n",
            "70/70 [==============================] - 0s 5ms/step - loss: 0.0999 - accuracy: 0.9676 - val_loss: 0.2245 - val_accuracy: 0.9286\n",
            "Epoch 91/100\n",
            "70/70 [==============================] - 0s 4ms/step - loss: 0.0991 - accuracy: 0.9712 - val_loss: 0.2237 - val_accuracy: 0.9286\n",
            "Epoch 92/100\n",
            "70/70 [==============================] - 0s 4ms/step - loss: 0.0982 - accuracy: 0.9712 - val_loss: 0.2229 - val_accuracy: 0.9286\n",
            "Epoch 93/100\n",
            "70/70 [==============================] - 0s 4ms/step - loss: 0.0973 - accuracy: 0.9748 - val_loss: 0.2220 - val_accuracy: 0.9286\n",
            "Epoch 94/100\n",
            "70/70 [==============================] - 0s 4ms/step - loss: 0.0965 - accuracy: 0.9712 - val_loss: 0.2209 - val_accuracy: 0.9286\n",
            "Epoch 95/100\n",
            "70/70 [==============================] - 0s 4ms/step - loss: 0.0958 - accuracy: 0.9748 - val_loss: 0.2204 - val_accuracy: 0.9286\n",
            "Epoch 96/100\n",
            "70/70 [==============================] - 0s 4ms/step - loss: 0.0950 - accuracy: 0.9748 - val_loss: 0.2197 - val_accuracy: 0.9286\n",
            "Epoch 97/100\n",
            "70/70 [==============================] - 0s 4ms/step - loss: 0.0943 - accuracy: 0.9748 - val_loss: 0.2192 - val_accuracy: 0.9286\n",
            "Epoch 98/100\n",
            "70/70 [==============================] - 0s 4ms/step - loss: 0.0935 - accuracy: 0.9748 - val_loss: 0.2188 - val_accuracy: 0.9286\n",
            "Epoch 99/100\n",
            "70/70 [==============================] - 0s 5ms/step - loss: 0.0927 - accuracy: 0.9748 - val_loss: 0.2177 - val_accuracy: 0.9286\n",
            "Epoch 100/100\n",
            "70/70 [==============================] - 0s 4ms/step - loss: 0.0920 - accuracy: 0.9748 - val_loss: 0.2171 - val_accuracy: 0.9286\n"
          ]
        }
      ],
      "source": [
        "history = model.fit(x_train_array, y_train_array, epochs=100, batch_size=4,\n",
        "                    validation_split=0.2)"
      ]
    },
    {
      "cell_type": "markdown",
      "metadata": {
        "id": "GQMbJKL8KHeL"
      },
      "source": [
        "### 7. Model Evaluation\n",
        "\n"
      ]
    },
    {
      "cell_type": "markdown",
      "metadata": {
        "id": "tzqLTyNOMtkG"
      },
      "source": [
        "1. First, apply the same preprocessing you did to train set to test set also"
      ]
    },
    {
      "cell_type": "code",
      "execution_count": 46,
      "metadata": {
        "id": "fwPbro7dKVZJ"
      },
      "outputs": [],
      "source": [
        "# WRITE YOUR CODE HERE\n"
      ]
    },
    {
      "cell_type": "markdown",
      "metadata": {
        "id": "rE34DAnkM7jM"
      },
      "source": [
        "2. Evaluate the model, print final accuracy and loss"
      ]
    },
    {
      "cell_type": "code",
      "execution_count": 47,
      "metadata": {
        "id": "kmmp_9vPwaBJ",
        "colab": {
          "base_uri": "https://localhost:8080/"
        },
        "outputId": "fb4ce1e0-07d2-45e7-8e44-4e481f61ca48"
      },
      "outputs": [
        {
          "output_type": "stream",
          "name": "stdout",
          "text": [
            "3/3 [==============================] - 0s 5ms/step - loss: 0.2080 - accuracy: 0.9425\n",
            "Final Loss: 0.2080000936985016\n",
            "Final Accuracy: 0.9425287246704102\n"
          ]
        }
      ],
      "source": [
        "# WRITE YOUR CODE HERE\n",
        "loss, accuracy = model.evaluate(x_test_array, y_test_array)\n",
        "print('Final Loss:', loss)\n",
        "print('Final Accuracy:', accuracy)"
      ]
    },
    {
      "cell_type": "markdown",
      "metadata": {
        "id": "IOTKHtFsNEZV"
      },
      "source": [
        "3. Plot loss and validation loss depending on the training epochs into one graph. In another graph, plot accuracy and validation accuracy"
      ]
    },
    {
      "cell_type": "code",
      "execution_count": 48,
      "metadata": {
        "id": "1SAkMeD4yA5x",
        "colab": {
          "base_uri": "https://localhost:8080/",
          "height": 487
        },
        "outputId": "736b286b-b6c2-4c31-8baa-dd83a80ab2fd"
      },
      "outputs": [
        {
          "output_type": "display_data",
          "data": {
            "text/plain": [
              "<Figure size 1000x500 with 1 Axes>"
            ],
            "image/png": "[encoded data removed]"
          },
          "metadata": {}
        }
      ],
      "source": [
        "train_loss = history.history['loss']\n",
        "val_loss = history.history['val_loss']\n",
        "train_acc = history.history['accuracy']\n",
        "val_acc = history.history['val_accuracy']\n",
        "\n",
        "plt.figure(figsize=(10, 5))\n",
        "plt.plot(train_loss, label='Training Loss')\n",
        "plt.plot(val_loss, label='Validation Loss')\n",
        "plt.title('Training and Validation Loss')\n",
        "plt.xlabel('Epoch')\n",
        "plt.ylabel('Loss')\n",
        "plt.legend()\n",
        "plt.show()"
      ]
    },
    {
      "cell_type": "code",
      "execution_count": 49,
      "metadata": {
        "id": "cU-4VJsh0Z_1",
        "colab": {
          "base_uri": "https://localhost:8080/",
          "height": 487
        },
        "outputId": "08b25f2f-9c84-4969-e596-8f61327ceb3e"
      },
      "outputs": [
        {
          "output_type": "display_data",
          "data": {
            "text/plain": [
              "<Figure size 1000x500 with 1 Axes>"
            ],
            "image/png": "[encoded data removed]"
          },
          "metadata": {}
        }
      ],
      "source": [
        "plt.figure(figsize=(10, 5))\n",
        "plt.plot(train_acc, label='Training Accuracy')\n",
        "plt.plot(val_acc, label='Validation Accuracy')\n",
        "plt.title('Training and Validation Accuracy')\n",
        "plt.xlabel('Epoch')\n",
        "plt.ylabel('Accuracy')\n",
        "plt.legend()\n",
        "plt.show()"
      ]
    }
  ],
  "metadata": {
    "accelerator": "GPU",
    "colab": {
      "provenance": [],
      "gpuType": "T4",
      "include_colab_link": true
    },
    "kernelspec": {
      "display_name": "Python 3",
      "name": "python3"
    },
    "language_info": {
      "codemirror_mode": {
        "name": "ipython",
        "version": 3
      },
      "file_extension": ".py",
      "mimetype": "text/x-python",
      "name": "python",
      "nbconvert_exporter": "python",
      "pygments_lexer": "ipython3",
      "version": "3.10.12"
    }
  },
  "nbformat": 4,
  "nbformat_minor": 0
}